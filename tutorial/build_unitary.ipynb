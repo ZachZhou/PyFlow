{
 "cells": [
  {
   "cell_type": "code",
   "execution_count": 6,
   "id": "e29e2719",
   "metadata": {},
   "outputs": [],
   "source": [
    "import numpy as np\n",
    "import matplotlib.pyplot as plt\n",
    "import copy"
   ]
  },
  {
   "cell_type": "code",
   "execution_count": 27,
   "id": "5204e3f3",
   "metadata": {},
   "outputs": [
    {
     "name": "stdout",
     "output_type": "stream",
     "text": [
      "[[ 2.10801291  1.          0.          0.        ]\n",
      " [ 1.          2.93480307  1.          0.        ]\n",
      " [ 0.          1.         -3.29904479  1.        ]\n",
      " [ 0.          0.          1.          1.20795504]]\n",
      "Eigenvalues =  [-3.66018585  1.33468276  1.56699762  3.71023171]\n"
     ]
    }
   ],
   "source": [
    "n = 4\n",
    "W = 5\n",
    "J = 1.\n",
    "H = np.zeros((n,n))\n",
    "for i in range(n):\n",
    "    H[i,i] = np.random.uniform(-W,W)\n",
    "    for j in range(n):\n",
    "        if np.abs(i-j)==1:\n",
    "            H[i,j] = J\n",
    "print(H)\n",
    "print('Eigenvalues = ',np.linalg.eigh(H)[0])\n"
   ]
  },
  {
   "cell_type": "code",
   "execution_count": 88,
   "id": "7b1bd2e0",
   "metadata": {},
   "outputs": [],
   "source": [
    "def flow(H,dl=10**(-3),steps = 100000):\n",
    "    H2 = copy.deepcopy(H)\n",
    "    n,_ = H2.shape\n",
    "    U = np.identity(n)\n",
    "    for q in range(steps):\n",
    "        \n",
    "        H0 = np.diag(np.diag(H2))\n",
    "        V = H2-H0\n",
    "        Vmax = np.max(np.abs(V.reshape(n**2)))\n",
    "\n",
    "        eta = H0@V - V@H0\n",
    "        \n",
    "        U = (np.identity(n) + dl*eta)@U\n",
    "        \n",
    "        dH = eta@H2-H2@eta\n",
    "\n",
    "        H2 += dl*dH\n",
    "        \n",
    "    return H2,Vmax,U"
   ]
  },
  {
   "cell_type": "code",
   "execution_count": 89,
   "id": "34ebab67",
   "metadata": {},
   "outputs": [
    {
     "name": "stdout",
     "output_type": "stream",
     "text": [
      "[-3.66631128  1.33477905  1.56901423  3.71424424]\n",
      "0.000985515456995663\n"
     ]
    }
   ],
   "source": [
    "Hdiag = flow(H)\n",
    "print(np.sort(np.diag(Hdiag[0])))\n",
    "print(Hdiag[1])"
   ]
  },
  {
   "cell_type": "code",
   "execution_count": 92,
   "id": "5eabe446",
   "metadata": {},
   "outputs": [
    {
     "name": "stdout",
     "output_type": "stream",
     "text": [
      "[[ 1.56901423e+000  3.85539486e-202  8.89318163e-323 -9.85461386e-004]\n",
      " [ 3.85539486e-202  3.71424424e+000 -4.44659081e-323 -7.22275146e-205]\n",
      " [ 8.89318163e-323 -4.44659081e-323 -3.66631128e+000  9.38724727e-323]\n",
      " [-9.85461386e-004 -7.22275146e-205  9.38724727e-323  1.33477905e+000]]\n",
      "[[ 1.56824176e+00  1.54915547e-03  3.05608842e-04  7.87263184e-04]\n",
      " [ 1.54915547e-03  3.71352795e+00  5.16404739e-05 -6.77773748e-04]\n",
      " [ 3.05608842e-04  5.16404739e-05 -3.66390339e+00  4.16015034e-04]\n",
      " [ 7.87263184e-04 -6.77773748e-04  4.16015034e-04  1.33513687e+00]]\n"
     ]
    }
   ],
   "source": [
    "U=Hdiag[2]\n",
    "print(Hdiag[0])\n",
    "print(U@H@(U.T))"
   ]
  },
  {
   "cell_type": "code",
   "execution_count": 95,
   "id": "ef3ceee0",
   "metadata": {},
   "outputs": [
    {
     "name": "stdout",
     "output_type": "stream",
     "text": [
      "[-3.66018585  1.33468276  1.56699762  3.71023171]\n",
      "[-3.66631128  1.33477905  1.56901423  3.71424424]\n",
      "[-3.66390339  1.33513687  1.56824176  3.71352795]\n"
     ]
    }
   ],
   "source": [
    "Hdiag2 = U@H@(U.T)\n",
    "print(np.linalg.eigh(H)[0])\n",
    "print(np.sort(np.diag(Hdiag[0])))\n",
    "print(np.sort(np.diag(Hdiag2)))"
   ]
  },
  {
   "cell_type": "code",
   "execution_count": 96,
   "id": "3c138bc9",
   "metadata": {},
   "outputs": [],
   "source": [
    "H4 = np.random.uniform(-W,W,n**4)\n",
    "H4 = H4.reshape(n,n,n,n)"
   ]
  },
  {
   "cell_type": "code",
   "execution_count": 97,
   "id": "95c1893c",
   "metadata": {},
   "outputs": [],
   "source": [
    "U2 = np.identity(n)\n",
    "U4 = np.zeros((n,n,n,n))\n",
    "for i in range(n):\n",
    "    for j in range(n):\n",
    "        U4[i,i,j,j] = 1.0"
   ]
  },
  {
   "cell_type": "code",
   "execution_count": null,
   "id": "df2f1e9d",
   "metadata": {},
   "outputs": [],
   "source": [
    "def con2(A,B):\n",
    "    C = np.zeros((n,n,n,n))\n",
    "    for i in range(n):\n",
    "        for j in range(n):\n",
    "            for k in range(n):\n",
    "                for q in range(n):\n",
    "                    for p in range(n):\n",
    "                        C[i,j,k,q] += A[i,p]*"
   ]
  }
 ],
 "metadata": {
  "kernelspec": {
   "display_name": "Python 3 (ipykernel)",
   "language": "python",
   "name": "python3"
  },
  "language_info": {
   "codemirror_mode": {
    "name": "ipython",
    "version": 3
   },
   "file_extension": ".py",
   "mimetype": "text/x-python",
   "name": "python",
   "nbconvert_exporter": "python",
   "pygments_lexer": "ipython3",
   "version": "3.9.7"
  }
 },
 "nbformat": 4,
 "nbformat_minor": 5
}
